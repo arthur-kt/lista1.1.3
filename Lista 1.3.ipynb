{
 "cells": [
  {
   "cell_type": "markdown",
   "id": "bf6cc8b9",
   "metadata": {},
   "source": [
    "### 3. leia dois números do teclado, calcule a sua soma e imprima na tela seu resultado."
   ]
  },
  {
   "cell_type": "code",
   "execution_count": 5,
   "id": "b7ec7152",
   "metadata": {},
   "outputs": [
    {
     "name": "stdout",
     "output_type": "stream",
     "text": [
      "Primeiro número: 10\n",
      "Segundo número: 10\n",
      "Soma dos números: 20\n"
     ]
    }
   ],
   "source": [
    "x=int(input(\"Primeiro número: \"))\n",
    "y=int(input(\"Segundo número: \"))\n",
    "print(\"Soma dos números:\",x+y)"
   ]
  }
 ],
 "metadata": {
  "kernelspec": {
   "display_name": "Python 3 (ipykernel)",
   "language": "python",
   "name": "python3"
  },
  "language_info": {
   "codemirror_mode": {
    "name": "ipython",
    "version": 3
   },
   "file_extension": ".py",
   "mimetype": "text/x-python",
   "name": "python",
   "nbconvert_exporter": "python",
   "pygments_lexer": "ipython3",
   "version": "3.10.9"
  }
 },
 "nbformat": 4,
 "nbformat_minor": 5
}
